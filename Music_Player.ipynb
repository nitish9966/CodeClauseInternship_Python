{
 "cells": [
  {
   "cell_type": "code",
   "execution_count": 1,
   "id": "b7f5d5ec-409d-4694-b527-74d5a2d0651f",
   "metadata": {},
   "outputs": [
    {
     "name": "stdout",
     "output_type": "stream",
     "text": [
      "Requirement already satisfied: pygame in c:\\python311\\lib\\site-packages (2.5.2)\n",
      "Note: you may need to restart the kernel to use updated packages.\n"
     ]
    }
   ],
   "source": [
    "pip install pygame\n"
   ]
  },
  {
   "cell_type": "code",
   "execution_count": null,
   "id": "161d8513-eab4-4b4c-93cd-2cd9842c0a8b",
   "metadata": {},
   "outputs": [
    {
     "name": "stdout",
     "output_type": "stream",
     "text": [
      "\n",
      "Options:\n",
      "1. Play\n",
      "2. Pause\n",
      "3. Unpause\n",
      "4. Stop\n",
      "5. Display Playlist\n",
      "6. Quit\n"
     ]
    },
    {
     "name": "stdin",
     "output_type": "stream",
     "text": [
      "Enter your choice:  1\n"
     ]
    },
    {
     "name": "stdout",
     "output_type": "stream",
     "text": [
      "Playlist:\n",
      "1. Adhento Gaani Vunnapaatuga.mp3\n",
      "2. Besabriyaan - M.S. Dhoni - The Untold Story 320 Kbps.mp3\n",
      "3. Jab Tak - M.S. Dhoni - The Untold Story 320 Kbps.mp3\n",
      "4. Jersey The Book.mp3\n",
      "5. Kaun Tujhe - M.S. Dhoni - The Untold Story 320 Kbps.mp3\n",
      "6. Phir Kabhi - M.S. Dhoni - The Untold Story 320 Kbps.mp3\n",
      "7. Priyam Jagame Anandhamayam.mp3\n",
      "8. Vinnane Vinnane.mp3\n",
      "9. [iSongs.info] 02 - Break The Rules.mp3\n",
      "10. [iSongs.info] 02 - Spirit Of Jersey.mp3\n",
      "11. [iSongs.info] 03 - Padhe Padhe.mp3\n",
      "12. [iSongs.info] 03 - Sunona Sunaina.mp3\n",
      "13. [iSongs.info] 04 - Allasani Vaari.mp3\n",
      "14. [iSongs.info] 04 - Prapanchame Alaa.mp3\n",
      "15. [iSongs.info] 05 - Arjun & Nani’s Theme.mp3\n",
      "16. [iSongs.info] 05 - Needa Padadhani.mp3\n",
      "17. [iSongs.info] 06 - Aarambhame Le.mp3\n",
      "18. [iSongs.info] 06 - Lasku Tapa.mp3\n",
      "19. [iSongs.info] 06 - Toliprema.mp3\n",
      "20. [iSongs.info] 08 - Arjun Makes Nani Proud.mp3\n",
      "21. [iSongs.info] 09 - Interval Block.mp3\n"
     ]
    },
    {
     "name": "stdin",
     "output_type": "stream",
     "text": [
      "Enter the song number to play:  1\n"
     ]
    },
    {
     "name": "stdout",
     "output_type": "stream",
     "text": [
      "\n",
      "Options:\n",
      "1. Play\n",
      "2. Pause\n",
      "3. Unpause\n",
      "4. Stop\n",
      "5. Display Playlist\n",
      "6. Quit\n"
     ]
    },
    {
     "name": "stdin",
     "output_type": "stream",
     "text": [
      "Enter your choice:  2\n"
     ]
    },
    {
     "name": "stdout",
     "output_type": "stream",
     "text": [
      "\n",
      "Options:\n",
      "1. Play\n",
      "2. Pause\n",
      "3. Unpause\n",
      "4. Stop\n",
      "5. Display Playlist\n",
      "6. Quit\n"
     ]
    },
    {
     "name": "stdin",
     "output_type": "stream",
     "text": [
      "Enter your choice:  3\n"
     ]
    },
    {
     "name": "stdout",
     "output_type": "stream",
     "text": [
      "\n",
      "Options:\n",
      "1. Play\n",
      "2. Pause\n",
      "3. Unpause\n",
      "4. Stop\n",
      "5. Display Playlist\n",
      "6. Quit\n"
     ]
    },
    {
     "name": "stdin",
     "output_type": "stream",
     "text": [
      "Enter your choice:  4\n"
     ]
    },
    {
     "name": "stdout",
     "output_type": "stream",
     "text": [
      "\n",
      "Options:\n",
      "1. Play\n",
      "2. Pause\n",
      "3. Unpause\n",
      "4. Stop\n",
      "5. Display Playlist\n",
      "6. Quit\n"
     ]
    },
    {
     "name": "stdin",
     "output_type": "stream",
     "text": [
      "Enter your choice:  5\n"
     ]
    },
    {
     "name": "stdout",
     "output_type": "stream",
     "text": [
      "Playlist:\n",
      "1. Adhento Gaani Vunnapaatuga.mp3\n",
      "2. Besabriyaan - M.S. Dhoni - The Untold Story 320 Kbps.mp3\n",
      "3. Jab Tak - M.S. Dhoni - The Untold Story 320 Kbps.mp3\n",
      "4. Jersey The Book.mp3\n",
      "5. Kaun Tujhe - M.S. Dhoni - The Untold Story 320 Kbps.mp3\n",
      "6. Phir Kabhi - M.S. Dhoni - The Untold Story 320 Kbps.mp3\n",
      "7. Priyam Jagame Anandhamayam.mp3\n",
      "8. Vinnane Vinnane.mp3\n",
      "9. [iSongs.info] 02 - Break The Rules.mp3\n",
      "10. [iSongs.info] 02 - Spirit Of Jersey.mp3\n",
      "11. [iSongs.info] 03 - Padhe Padhe.mp3\n",
      "12. [iSongs.info] 03 - Sunona Sunaina.mp3\n",
      "13. [iSongs.info] 04 - Allasani Vaari.mp3\n",
      "14. [iSongs.info] 04 - Prapanchame Alaa.mp3\n",
      "15. [iSongs.info] 05 - Arjun & Nani’s Theme.mp3\n",
      "16. [iSongs.info] 05 - Needa Padadhani.mp3\n",
      "17. [iSongs.info] 06 - Aarambhame Le.mp3\n",
      "18. [iSongs.info] 06 - Lasku Tapa.mp3\n",
      "19. [iSongs.info] 06 - Toliprema.mp3\n",
      "20. [iSongs.info] 08 - Arjun Makes Nani Proud.mp3\n",
      "21. [iSongs.info] 09 - Interval Block.mp3\n",
      "\n",
      "Options:\n",
      "1. Play\n",
      "2. Pause\n",
      "3. Unpause\n",
      "4. Stop\n",
      "5. Display Playlist\n",
      "6. Quit\n"
     ]
    },
    {
     "name": "stdin",
     "output_type": "stream",
     "text": [
      "Enter your choice:  1\n"
     ]
    },
    {
     "name": "stdout",
     "output_type": "stream",
     "text": [
      "Playlist:\n",
      "1. Adhento Gaani Vunnapaatuga.mp3\n",
      "2. Besabriyaan - M.S. Dhoni - The Untold Story 320 Kbps.mp3\n",
      "3. Jab Tak - M.S. Dhoni - The Untold Story 320 Kbps.mp3\n",
      "4. Jersey The Book.mp3\n",
      "5. Kaun Tujhe - M.S. Dhoni - The Untold Story 320 Kbps.mp3\n",
      "6. Phir Kabhi - M.S. Dhoni - The Untold Story 320 Kbps.mp3\n",
      "7. Priyam Jagame Anandhamayam.mp3\n",
      "8. Vinnane Vinnane.mp3\n",
      "9. [iSongs.info] 02 - Break The Rules.mp3\n",
      "10. [iSongs.info] 02 - Spirit Of Jersey.mp3\n",
      "11. [iSongs.info] 03 - Padhe Padhe.mp3\n",
      "12. [iSongs.info] 03 - Sunona Sunaina.mp3\n",
      "13. [iSongs.info] 04 - Allasani Vaari.mp3\n",
      "14. [iSongs.info] 04 - Prapanchame Alaa.mp3\n",
      "15. [iSongs.info] 05 - Arjun & Nani’s Theme.mp3\n",
      "16. [iSongs.info] 05 - Needa Padadhani.mp3\n",
      "17. [iSongs.info] 06 - Aarambhame Le.mp3\n",
      "18. [iSongs.info] 06 - Lasku Tapa.mp3\n",
      "19. [iSongs.info] 06 - Toliprema.mp3\n",
      "20. [iSongs.info] 08 - Arjun Makes Nani Proud.mp3\n",
      "21. [iSongs.info] 09 - Interval Block.mp3\n"
     ]
    },
    {
     "name": "stdin",
     "output_type": "stream",
     "text": [
      "Enter the song number to play:  6\n"
     ]
    },
    {
     "name": "stdout",
     "output_type": "stream",
     "text": [
      "\n",
      "Options:\n",
      "1. Play\n",
      "2. Pause\n",
      "3. Unpause\n",
      "4. Stop\n",
      "5. Display Playlist\n",
      "6. Quit\n"
     ]
    },
    {
     "name": "stdin",
     "output_type": "stream",
     "text": [
      "Enter your choice:  4\n"
     ]
    },
    {
     "name": "stdout",
     "output_type": "stream",
     "text": [
      "\n",
      "Options:\n",
      "1. Play\n",
      "2. Pause\n",
      "3. Unpause\n",
      "4. Stop\n",
      "5. Display Playlist\n",
      "6. Quit\n"
     ]
    },
    {
     "name": "stdin",
     "output_type": "stream",
     "text": [
      "Enter your choice:  6\n"
     ]
    },
    {
     "name": "stdout",
     "output_type": "stream",
     "text": [
      "\n",
      "Options:\n",
      "1. Play\n",
      "2. Pause\n",
      "3. Unpause\n",
      "4. Stop\n",
      "5. Display Playlist\n",
      "6. Quit\n"
     ]
    }
   ],
   "source": [
    "import pygame\n",
    "import os\n",
    "\n",
    "# Initialize pygame\n",
    "pygame.init()\n",
    "\n",
    "# Create a list of music files\n",
    "music_dir = \"Music/Playlist\"  # Replace with the path to your music folder\n",
    "music_files = [f for f in os.listdir(music_dir) if f.endswith(\".mp3\")]\n",
    "\n",
    "# Create a playlist\n",
    "playlist = []\n",
    "\n",
    "# Add music files to the playlist\n",
    "for file in music_files:\n",
    "    playlist.append(os.path.join(music_dir, file))\n",
    "\n",
    "# Initialize the music mixer\n",
    "pygame.mixer.init()\n",
    "\n",
    "# Function to play music\n",
    "def play_music(song):\n",
    "    pygame.mixer.music.load(song)\n",
    "    pygame.mixer.music.play()\n",
    "\n",
    "# Function to pause music\n",
    "def pause_music():\n",
    "    pygame.mixer.music.pause()\n",
    "\n",
    "# Function to resume music\n",
    "def unpause_music():\n",
    "    pygame.mixer.music.unpause()\n",
    "\n",
    "# Function to stop music\n",
    "def stop_music():\n",
    "    pygame.mixer.music.stop()\n",
    "\n",
    "# Function to display the playlist\n",
    "def display_playlist():\n",
    "    print(\"Playlist:\")\n",
    "    for idx, song in enumerate(playlist, 1):\n",
    "        print(f\"{idx}. {os.path.basename(song)}\")\n",
    "\n",
    "# Main loop\n",
    "while True:\n",
    "    print(\"\\nOptions:\")\n",
    "    print(\"1. Play\")\n",
    "    print(\"2. Pause\")\n",
    "    print(\"3. Unpause\")\n",
    "    print(\"4. Stop\")\n",
    "    print(\"5. Display Playlist\")\n",
    "    print(\"6. Quit\")\n",
    "\n",
    "    choice = input(\"Enter your choice: \")\n",
    "\n",
    "    if choice == \"1\":\n",
    "        display_playlist()\n",
    "        song_number = int(input(\"Enter the song number to play: \")) - 1\n",
    "        if 0 <= song_number < len(playlist):\n",
    "            play_music(playlist[song_number])\n",
    "        else:\n",
    "            print(\"Invalid song number.\")\n",
    "    elif choice == \"2\":\n",
    "        pause_music()\n",
    "    elif choice == \"3\":\n",
    "        unpause_music()\n",
    "    elif choice == \"4\":\n",
    "        stop_music()\n",
    "    elif choice == \"5\":\n",
    "        display_playlist()\n",
    "    elif choice == \"6\":\n",
    "        pygame.quit()\n",
    "        exit()\n",
    "    else:\n",
    "        print(\"Invalid choice. Please try again.\")\n"
   ]
  },
  {
   "cell_type": "code",
   "execution_count": null,
   "id": "f4eb75ae-3758-4d97-abf8-92c6baae2f65",
   "metadata": {},
   "outputs": [],
   "source": []
  }
 ],
 "metadata": {
  "kernelspec": {
   "display_name": "Python 3 (ipykernel)",
   "language": "python",
   "name": "python3"
  },
  "language_info": {
   "codemirror_mode": {
    "name": "ipython",
    "version": 3
   },
   "file_extension": ".py",
   "mimetype": "text/x-python",
   "name": "python",
   "nbconvert_exporter": "python",
   "pygments_lexer": "ipython3",
   "version": "3.11.4"
  }
 },
 "nbformat": 4,
 "nbformat_minor": 5
}
