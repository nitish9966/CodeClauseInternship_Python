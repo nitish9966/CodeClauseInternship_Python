{
 "cells": [
  {
   "cell_type": "code",
   "execution_count": null,
   "id": "4f1be916-3220-4b4a-a349-ea8fba5bfefd",
   "metadata": {},
   "outputs": [
    {
     "name": "stdout",
     "output_type": "stream",
     "text": [
      "Options:\n",
      "Enter 'add' for addition\n",
      "Enter 'subtract' for subtraction\n",
      "Enter 'multiply' for multiplication\n",
      "Enter 'divide' for division\n",
      "Enter 'square' for squaring a number\n",
      "Enter 'square_root' for square root\n",
      "Enter 'factorial' for factorial\n",
      "Enter 'natural_log' for natural logarithm\n",
      "Enter 'quit' to end the program\n"
     ]
    },
    {
     "name": "stdin",
     "output_type": "stream",
     "text": [
      ":  3\n"
     ]
    },
    {
     "name": "stdout",
     "output_type": "stream",
     "text": [
      "Invalid input. Please try again.\n",
      "Options:\n",
      "Enter 'add' for addition\n",
      "Enter 'subtract' for subtraction\n",
      "Enter 'multiply' for multiplication\n",
      "Enter 'divide' for division\n",
      "Enter 'square' for squaring a number\n",
      "Enter 'square_root' for square root\n",
      "Enter 'factorial' for factorial\n",
      "Enter 'natural_log' for natural logarithm\n",
      "Enter 'quit' to end the program\n"
     ]
    },
    {
     "name": "stdin",
     "output_type": "stream",
     "text": [
      ":  add\n",
      "Enter first number:  5\n",
      "Enter second number:  5\n"
     ]
    },
    {
     "name": "stdout",
     "output_type": "stream",
     "text": [
      "Result: 10.0\n",
      "Options:\n",
      "Enter 'add' for addition\n",
      "Enter 'subtract' for subtraction\n",
      "Enter 'multiply' for multiplication\n",
      "Enter 'divide' for division\n",
      "Enter 'square' for squaring a number\n",
      "Enter 'square_root' for square root\n",
      "Enter 'factorial' for factorial\n",
      "Enter 'natural_log' for natural logarithm\n",
      "Enter 'quit' to end the program\n"
     ]
    },
    {
     "name": "stdin",
     "output_type": "stream",
     "text": [
      ":  square\n",
      "Enter a number:  5\n"
     ]
    },
    {
     "name": "stdout",
     "output_type": "stream",
     "text": [
      "Result: 25.0\n",
      "Options:\n",
      "Enter 'add' for addition\n",
      "Enter 'subtract' for subtraction\n",
      "Enter 'multiply' for multiplication\n",
      "Enter 'divide' for division\n",
      "Enter 'square' for squaring a number\n",
      "Enter 'square_root' for square root\n",
      "Enter 'factorial' for factorial\n",
      "Enter 'natural_log' for natural logarithm\n",
      "Enter 'quit' to end the program\n"
     ]
    },
    {
     "name": "stdin",
     "output_type": "stream",
     "text": [
      ":  factorial\n",
      "Enter a number:  9\n"
     ]
    },
    {
     "name": "stdout",
     "output_type": "stream",
     "text": [
      "Result: 362880\n",
      "Options:\n",
      "Enter 'add' for addition\n",
      "Enter 'subtract' for subtraction\n",
      "Enter 'multiply' for multiplication\n",
      "Enter 'divide' for division\n",
      "Enter 'square' for squaring a number\n",
      "Enter 'square_root' for square root\n",
      "Enter 'factorial' for factorial\n",
      "Enter 'natural_log' for natural logarithm\n",
      "Enter 'quit' to end the program\n"
     ]
    },
    {
     "name": "stdin",
     "output_type": "stream",
     "text": [
      ":  square_root\n",
      "Enter a number:  4\n"
     ]
    },
    {
     "name": "stdout",
     "output_type": "stream",
     "text": [
      "Result: 2.0\n",
      "Options:\n",
      "Enter 'add' for addition\n",
      "Enter 'subtract' for subtraction\n",
      "Enter 'multiply' for multiplication\n",
      "Enter 'divide' for division\n",
      "Enter 'square' for squaring a number\n",
      "Enter 'square_root' for square root\n",
      "Enter 'factorial' for factorial\n",
      "Enter 'natural_log' for natural logarithm\n",
      "Enter 'quit' to end the program\n"
     ]
    }
   ],
   "source": [
    "import math\n",
    "\n",
    "# Function to perform addition\n",
    "def add(x, y):\n",
    "    return x + y\n",
    "\n",
    "# Function to perform subtraction\n",
    "def subtract(x, y):\n",
    "    return x - y\n",
    "\n",
    "# Function to perform multiplication\n",
    "def multiply(x, y):\n",
    "    return x * y\n",
    "\n",
    "# Function to perform division\n",
    "def divide(x, y):\n",
    "    if y == 0:\n",
    "        return \"Cannot divide by zero\"\n",
    "    return x / y\n",
    "\n",
    "# Function to calculate the square of a number\n",
    "def square(x):\n",
    "    return x ** 2\n",
    "\n",
    "# Function to calculate the square root of a number\n",
    "def square_root(x):\n",
    "    if x < 0:\n",
    "        return \"Invalid input (negative number)\"\n",
    "    return x ** 0.5\n",
    "\n",
    "# Function to calculate the factorial of a number\n",
    "def factorial(x):\n",
    "    if x < 0:\n",
    "        return \"Invalid input (negative number)\"\n",
    "    if x == 0:\n",
    "        return 1\n",
    "    return x * factorial(x - 1)\n",
    "\n",
    "# Function to calculate the natural logarithm\n",
    "def natural_log(x):\n",
    "    if x <= 0:\n",
    "        return \"Invalid input (non-positive number)\"\n",
    "    return math.log(x)\n",
    "\n",
    "# Main calculator loop\n",
    "while True:\n",
    "    print(\"Options:\")\n",
    "    print(\"Enter 'add' for addition\")\n",
    "    print(\"Enter 'subtract' for subtraction\")\n",
    "    print(\"Enter 'multiply' for multiplication\")\n",
    "    print(\"Enter 'divide' for division\")\n",
    "    print(\"Enter 'square' for squaring a number\")\n",
    "    print(\"Enter 'square_root' for square root\")\n",
    "    print(\"Enter 'factorial' for factorial\")\n",
    "    print(\"Enter 'natural_log' for natural logarithm\")\n",
    "    print(\"Enter 'quit' to end the program\")\n",
    "\n",
    "    user_input = input(\": \")\n",
    "\n",
    "    if user_input == \"quit\":\n",
    "        break\n",
    "    elif user_input in (\"add\", \"subtract\", \"multiply\", \"divide\"):\n",
    "        num1 = float(input(\"Enter first number: \"))\n",
    "        num2 = float(input(\"Enter second number: \"))\n",
    "\n",
    "        if user_input == \"add\":\n",
    "            print(\"Result:\", add(num1, num2))\n",
    "        elif user_input == \"subtract\":\n",
    "            print(\"Result:\", subtract(num1, num2))\n",
    "        elif user_input == \"multiply\":\n",
    "            print(\"Result:\", multiply(num1, num2))\n",
    "        elif user_input == \"divide\":\n",
    "            print(\"Result:\", divide(num1, num2))\n",
    "    elif user_input == \"square\":\n",
    "        num = float(input(\"Enter a number: \"))\n",
    "        print(\"Result:\", square(num))\n",
    "    elif user_input == \"square_root\":\n",
    "        num = float(input(\"Enter a number: \"))\n",
    "        print(\"Result:\", square_root(num))\n",
    "    elif user_input == \"factorial\":\n",
    "        num = int(input(\"Enter a number: \"))\n",
    "        print(\"Result:\", factorial(num))\n",
    "    elif user_input == \"natural_log\":\n",
    "        num = float(input(\"Enter a number: \"))\n",
    "        print(\"Result:\", natural_log(num))\n",
    "    else:\n",
    "        print(\"Invalid input. Please try again.\")\n"
   ]
  },
  {
   "cell_type": "code",
   "execution_count": null,
   "id": "286b0722-ab0f-48b6-bf7a-d9d2e109e77f",
   "metadata": {},
   "outputs": [],
   "source": []
  }
 ],
 "metadata": {
  "kernelspec": {
   "display_name": "Python 3 (ipykernel)",
   "language": "python",
   "name": "python3"
  },
  "language_info": {
   "codemirror_mode": {
    "name": "ipython",
    "version": 3
   },
   "file_extension": ".py",
   "mimetype": "text/x-python",
   "name": "python",
   "nbconvert_exporter": "python",
   "pygments_lexer": "ipython3",
   "version": "3.11.4"
  }
 },
 "nbformat": 4,
 "nbformat_minor": 5
}
